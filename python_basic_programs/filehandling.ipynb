{
 "cells": [
  {
   "cell_type": "code",
   "execution_count": 1,
   "metadata": {},
   "outputs": [
    {
     "name": "stdout",
     "output_type": "stream",
     "text": [
      "They were angry because their plans had been discovered.\n",
      "No, I was not playing cricket. \n",
      "I can play quite a few musical instruments, for example, the flute, the guitar, and the piano.\n",
      "He hurt his hand when he fell.\n",
      "I think he felt included because he was helping as much as we were.\n",
      "Calcium is found in green leafy vegetables, for example, broccoli, kale, arugula, or spinach have over 160 mg. per serving.\n",
      "Sachin Tendulkar was awarded Bharat Ratna in 2013.\n",
      "John was held captive at Castle Black.\n",
      "I am studying English because Iâ€™d like to immigrate to the U.S.\n",
      "It is ten oâ€™clock.\n",
      "He will go to China tomorrow.\n",
      "Children often cry just because they want some attention.\n",
      "Abdul Kalam was an aerospace scientist who served as the 11th President of India from 2002 to 2007.\n",
      "Vitamin C is found in colorful vegetables, for instance, bell peppers have a lot of vitamin C.\n",
      "John is feeling much better now.\n",
      "His name is Peter.\n",
      "Tom repainted his mailbox because it was looking shabby.\n",
      "The Taj Mahal is a beautiful monument built in 1631 by an Emperor named Shah Jahan in memory of his wife Mumtaz Mahal.\n",
      "Delhi is the capital of India.\n",
      "It is possible to combine Computer Science with other subjects, for example Physics.\n",
      "Sun is the largest member of the Solar System.\n",
      "Mahatma Gandhi was born on 2nd October 1869 in Porbandar, Gujarat.\n",
      "The British had introduced a National Flag for British India after the revolt of 1857.\n",
      "Hindi Diwas was first celebrated in the year 1953.\n",
      "Population refers to the number of individuals in a particular place.\n",
      "Jawaharlal Nehru was born on 14th November 1889 in Allahabad, Uttar Pradesh.\n",
      "He was elected as the Prime Minister of India on 15th August 1947.\n",
      "They slept in the car because they couldn't find a hotel.\n",
      "The accident happened because of the driver's negligence.\n",
      "Yes, I like coffee.\n",
      "Darjeeling is known for its beautiful tea gardens.\n",
      "Gandhi Jayanti is celebrated on 2nd October.\n",
      "Every child feels displaced to some degree when a new sibling arrives.\n",
      "He gave up traveling abroad because of his sudden illness.\n",
      "I was playing tennis.\n",
      "We were playing tennis at the club. \n",
      "I had been playing the drums since school time.\n",
      "She is preparing chicken sandwiches for breakfast.\n",
      "They have been trying to contact her.\n",
      "I shall have been living in Mumbai for five years by May 2019. \n",
      "Harry was late for class yesterday because of his accident.\n",
      "I have been up since four.\n",
      "Fractions can be written with oblique strokes, for example 2/3.\n",
      "Yes, she is working very hard.\n",
      "You usually walk to work.\n",
      "She was angry when you told her about the accident.\n",
      "I did go for fishing today.\n",
      "We had a bad rice crop last year because it rained a lot.\n",
      "They grow really well in pots.\n",
      "I married her when she was 23.\n"
     ]
    }
   ],
   "source": [
    "f = open(\"input.txt\", \"r\")\n",
    "\n",
    "print(f.read())"
   ]
  },
  {
   "cell_type": "code",
   "execution_count": 3,
   "metadata": {},
   "outputs": [
    {
     "name": "stdout",
     "output_type": "stream",
     "text": [
      "They \n"
     ]
    }
   ],
   "source": [
    "f = open(\"input.txt\", \"r\")\n",
    "print(f.read(5))"
   ]
  },
  {
   "cell_type": "code",
   "execution_count": 6,
   "metadata": {},
   "outputs": [
    {
     "name": "stdout",
     "output_type": "stream",
     "text": [
      "They were angry because their plans had been discovered.\n",
      "\n",
      "No, I was not playing cricket. \n",
      "\n"
     ]
    }
   ],
   "source": [
    "f = open(\"input.txt\", \"r\")\n",
    "print(f.readline())\n",
    "print(f.readline())\n"
   ]
  },
  {
   "cell_type": "code",
   "execution_count": 8,
   "metadata": {},
   "outputs": [
    {
     "name": "stdout",
     "output_type": "stream",
     "text": [
      "Sam plays cricket at 5AM.He is very smart.He can play football also\n",
      "Now he join in a chess academy also!Now he join in a chess academy also!Now he join in a football academy also!\n"
     ]
    }
   ],
   "source": [
    "f = open(\"in.txt\", \"a\")\n",
    "f.write(\"Now he join in a football academy also!\")\n",
    "f.close()\n",
    "\n",
    "#open and read the file after the appending:\n",
    "f = open(\"in.txt\", \"r\")\n",
    "print(f.read())"
   ]
  },
  {
   "cell_type": "code",
   "execution_count": 10,
   "metadata": {},
   "outputs": [],
   "source": [
    "f = open(\"myfile1.txt\", \"x\")"
   ]
  },
  {
   "cell_type": "code",
   "execution_count": null,
   "metadata": {},
   "outputs": [],
   "source": [
    "f = open(\"myfile.txt\", \"w\")"
   ]
  },
  {
   "cell_type": "code",
   "execution_count": null,
   "metadata": {},
   "outputs": [],
   "source": [
    "f.write(\"Woops! I have deleted the content!\")\n",
    "f.close()"
   ]
  },
  {
   "cell_type": "code",
   "execution_count": 14,
   "metadata": {},
   "outputs": [
    {
     "name": "stdout",
     "output_type": "stream",
     "text": [
      "The file does not exist\n"
     ]
    }
   ],
   "source": [
    "import os\n",
    "if os.path.exists(\"myfile2.txt\"):\n",
    "    print(\"exist now going to remove\")\n",
    "    os.remove(\"myfile.txt\")\n",
    "else:\n",
    "  print(\"The file does not exist\")"
   ]
  },
  {
   "cell_type": "code",
   "execution_count": null,
   "metadata": {},
   "outputs": [],
   "source": []
  }
 ],
 "metadata": {
  "kernelspec": {
   "display_name": "Python 3",
   "language": "python",
   "name": "python3"
  },
  "language_info": {
   "codemirror_mode": {
    "name": "ipython",
    "version": 3
   },
   "file_extension": ".py",
   "mimetype": "text/x-python",
   "name": "python",
   "nbconvert_exporter": "python",
   "pygments_lexer": "ipython3",
   "version": "3.8.3"
  }
 },
 "nbformat": 4,
 "nbformat_minor": 4
}
